{
 "cells": [
  {
   "cell_type": "markdown",
   "metadata": {
    "collapsed": true
   },
   "source": [
    "# Comparing SVR with linear and RBF kernel on Abalone data"
   ]
  },
  {
   "cell_type": "code",
   "execution_count": null,
   "metadata": {
    "collapsed": true
   },
   "outputs": [],
   "source": [
    "import pandas as pd\n",
    "import numpy as np"
   ]
  },
  {
   "cell_type": "code",
   "execution_count": 54,
   "metadata": {
    "collapsed": true
   },
   "outputs": [],
   "source": [
    "data2=pd.read_csv('abalone.data.txt',header=None)\n",
    "data2.columns = ['Sex','Length','Diamter','Height','Whole weight','Shucked weight'\n",
    "                    ,'Viscera weight','Shell weight','Rings']"
   ]
  },
  {
   "cell_type": "markdown",
   "metadata": {},
   "source": [
    "Replace M, F and I for the 'Sex' variable into 0,1, and 2, respectively."
   ]
  },
  {
   "cell_type": "code",
   "execution_count": 66,
   "metadata": {
    "collapsed": true
   },
   "outputs": [],
   "source": [
    "def transform(s):\n",
    "    d={'M':0,'F':1,'I':2}\n",
    "    return d[s]\n",
    "data2['Sex']=data2['Sex'].map(transform)"
   ]
  },
  {
   "cell_type": "markdown",
   "metadata": {},
   "source": [
    "Choose 'Rings' as dependent variable and add 1.5 to get 'Age'"
   ]
  },
  {
   "cell_type": "code",
   "execution_count": 68,
   "metadata": {
    "collapsed": true
   },
   "outputs": [],
   "source": [
    "y=data2['Rings'].values\n",
    "X=data2.iloc[:,0:8].values\n",
    "y=np.array(y)\n",
    "y1=[item+1.5 for item in y]"
   ]
  },
  {
   "cell_type": "markdown",
   "metadata": {},
   "source": [
    "Train linear SVR on the dataset"
   ]
  },
  {
   "cell_type": "code",
   "execution_count": 72,
   "metadata": {},
   "outputs": [
    {
     "data": {
      "text/plain": [
       "LinearSVR(C=1.0, dual=True, epsilon=0.0, fit_intercept=True,\n",
       "     intercept_scaling=1.0, loss='epsilon_insensitive', max_iter=1000,\n",
       "     random_state=42, tol=0.0001, verbose=0)"
      ]
     },
     "execution_count": 72,
     "metadata": {},
     "output_type": "execute_result"
    }
   ],
   "source": [
    "from sklearn.svm import LinearSVR\n",
    "lin_svr = LinearSVR(random_state=42)\n",
    "lin_svr.fit(X, y1)"
   ]
  },
  {
   "cell_type": "code",
   "execution_count": 78,
   "metadata": {},
   "outputs": [
    {
     "data": {
      "text/plain": [
       "2.3059905329001786"
      ]
     },
     "execution_count": 78,
     "metadata": {},
     "output_type": "execute_result"
    }
   ],
   "source": [
    "from sklearn.metrics import mean_squared_error\n",
    "\n",
    "y_pred = lin_svr.predict(X)\n",
    "mse = mean_squared_error(y1, y_pred)\n",
    "np.sqrt(mse)"
   ]
  },
  {
   "cell_type": "markdown",
   "metadata": {},
   "source": [
    "Train SVR with RBF Kernel. Use randomized search with cross validation to find the appropriate hyperparameter values for C and gamma."
   ]
  },
  {
   "cell_type": "code",
   "execution_count": 74,
   "metadata": {},
   "outputs": [
    {
     "name": "stdout",
     "output_type": "stream",
     "text": [
      "Fitting 3 folds for each of 10 candidates, totalling 30 fits\n",
      "[CV] C=4.74540118847, gamma=0.0796945481864 ..........................\n",
      "[CV] ........... C=4.74540118847, gamma=0.0796945481864, total=   0.4s\n",
      "[CV] C=4.74540118847, gamma=0.0796945481864 ..........................\n"
     ]
    },
    {
     "name": "stderr",
     "output_type": "stream",
     "text": [
      "[Parallel(n_jobs=1)]: Done   1 out of   1 | elapsed:    0.6s remaining:    0.0s\n"
     ]
    },
    {
     "name": "stdout",
     "output_type": "stream",
     "text": [
      "[CV] ........... C=4.74540118847, gamma=0.0796945481864, total=   0.4s\n",
      "[CV] C=4.74540118847, gamma=0.0796945481864 ..........................\n",
      "[CV] ........... C=4.74540118847, gamma=0.0796945481864, total=   0.4s\n",
      "[CV] C=8.31993941811, gamma=0.0157513204998 ..........................\n",
      "[CV] ........... C=8.31993941811, gamma=0.0157513204998, total=   0.4s\n",
      "[CV] C=8.31993941811, gamma=0.0157513204998 ..........................\n",
      "[CV] ........... C=8.31993941811, gamma=0.0157513204998, total=   0.4s\n",
      "[CV] C=8.31993941811, gamma=0.0157513204998 ..........................\n",
      "[CV] ........... C=8.31993941811, gamma=0.0157513204998, total=   0.4s\n",
      "[CV] C=2.56018640442, gamma=0.00205111041884 .........................\n",
      "[CV] .......... C=2.56018640442, gamma=0.00205111041884, total=   0.4s\n",
      "[CV] C=2.56018640442, gamma=0.00205111041884 .........................\n",
      "[CV] .......... C=2.56018640442, gamma=0.00205111041884, total=   0.4s\n",
      "[CV] C=2.56018640442, gamma=0.00205111041884 .........................\n",
      "[CV] .......... C=2.56018640442, gamma=0.00205111041884, total=   0.4s\n",
      "[CV] C=1.58083612168, gamma=0.0539948440979 ..........................\n",
      "[CV] ........... C=1.58083612168, gamma=0.0539948440979, total=   0.4s\n",
      "[CV] C=1.58083612168, gamma=0.0539948440979 ..........................\n",
      "[CV] ........... C=1.58083612168, gamma=0.0539948440979, total=   0.4s\n",
      "[CV] C=1.58083612168, gamma=0.0539948440979 ..........................\n",
      "[CV] ........... C=1.58083612168, gamma=0.0539948440979, total=   0.4s\n",
      "[CV] C=7.01115011743, gamma=0.0260702475837 ..........................\n",
      "[CV] ........... C=7.01115011743, gamma=0.0260702475837, total=   0.4s\n",
      "[CV] C=7.01115011743, gamma=0.0260702475837 ..........................\n",
      "[CV] ........... C=7.01115011743, gamma=0.0260702475837, total=   0.4s\n",
      "[CV] C=7.01115011743, gamma=0.0260702475837 ..........................\n",
      "[CV] ........... C=7.01115011743, gamma=0.0260702475837, total=   0.4s\n",
      "[CV] C=1.20584494296, gamma=0.087060208783 ...........................\n",
      "[CV] ............ C=1.20584494296, gamma=0.087060208783, total=   0.4s\n",
      "[CV] C=1.20584494296, gamma=0.087060208783 ...........................\n",
      "[CV] ............ C=1.20584494296, gamma=0.087060208783, total=   0.4s\n",
      "[CV] C=1.20584494296, gamma=0.087060208783 ...........................\n",
      "[CV] ............ C=1.20584494296, gamma=0.087060208783, total=   0.4s\n",
      "[CV] C=9.324426408, gamma=0.00265875439833 ...........................\n",
      "[CV] ............ C=9.324426408, gamma=0.00265875439833, total=   0.4s\n",
      "[CV] C=9.324426408, gamma=0.00265875439833 ...........................\n",
      "[CV] ............ C=9.324426408, gamma=0.00265875439833, total=   0.4s\n",
      "[CV] C=9.324426408, gamma=0.00265875439833 ...........................\n",
      "[CV] ............ C=9.324426408, gamma=0.00265875439833, total=   0.4s\n",
      "[CV] C=2.81824967207, gamma=0.00232706770838 .........................\n",
      "[CV] .......... C=2.81824967207, gamma=0.00232706770838, total=   0.4s\n",
      "[CV] C=2.81824967207, gamma=0.00232706770838 .........................\n",
      "[CV] .......... C=2.81824967207, gamma=0.00232706770838, total=   0.4s\n",
      "[CV] C=2.81824967207, gamma=0.00232706770838 .........................\n",
      "[CV] .......... C=2.81824967207, gamma=0.00232706770838, total=   0.4s\n",
      "[CV] C=4.0424224296, gamma=0.0112076062119 ...........................\n",
      "[CV] ............ C=4.0424224296, gamma=0.0112076062119, total=   0.4s\n",
      "[CV] C=4.0424224296, gamma=0.0112076062119 ...........................\n",
      "[CV] ............ C=4.0424224296, gamma=0.0112076062119, total=   0.4s\n",
      "[CV] C=4.0424224296, gamma=0.0112076062119 ...........................\n",
      "[CV] ............ C=4.0424224296, gamma=0.0112076062119, total=   0.4s\n",
      "[CV] C=5.31945018642, gamma=0.00382347522468 .........................\n",
      "[CV] .......... C=5.31945018642, gamma=0.00382347522468, total=   0.4s\n",
      "[CV] C=5.31945018642, gamma=0.00382347522468 .........................\n",
      "[CV] .......... C=5.31945018642, gamma=0.00382347522468, total=   0.4s\n",
      "[CV] C=5.31945018642, gamma=0.00382347522468 .........................\n",
      "[CV] .......... C=5.31945018642, gamma=0.00382347522468, total=   0.4s\n"
     ]
    },
    {
     "name": "stderr",
     "output_type": "stream",
     "text": [
      "[Parallel(n_jobs=1)]: Done  30 out of  30 | elapsed:   17.7s finished\n"
     ]
    },
    {
     "data": {
      "text/plain": [
       "RandomizedSearchCV(cv=None, error_score='raise',\n",
       "          estimator=SVR(C=1.0, cache_size=200, coef0=0.0, degree=3, epsilon=0.1, gamma='auto',\n",
       "  kernel='rbf', max_iter=-1, shrinking=True, tol=0.001, verbose=False),\n",
       "          fit_params=None, iid=True, n_iter=10, n_jobs=1,\n",
       "          param_distributions={'gamma': <scipy.stats._distn_infrastructure.rv_frozen object at 0x10ec82588>, 'C': <scipy.stats._distn_infrastructure.rv_frozen object at 0x10ec827b8>},\n",
       "          pre_dispatch='2*n_jobs', random_state=42, refit=True,\n",
       "          return_train_score='warn', scoring=None, verbose=2)"
      ]
     },
     "execution_count": 74,
     "metadata": {},
     "output_type": "execute_result"
    }
   ],
   "source": [
    "from sklearn.svm import SVR\n",
    "from sklearn.model_selection import RandomizedSearchCV\n",
    "from scipy.stats import reciprocal, uniform\n",
    "\n",
    "param_distributions = {\"gamma\": reciprocal(0.001, 0.1), \"C\": uniform(1, 10)}\n",
    "rnd_search_cv = RandomizedSearchCV(SVR(), param_distributions, n_iter=10, verbose=2, random_state=42)\n",
    "rnd_search_cv.fit(X, y1)"
   ]
  },
  {
   "cell_type": "code",
   "execution_count": 75,
   "metadata": {},
   "outputs": [
    {
     "data": {
      "text/plain": [
       "SVR(C=4.7454011884736254, cache_size=200, coef0=0.0, degree=3, epsilon=0.1,\n",
       "  gamma=0.079694548186439285, kernel='rbf', max_iter=-1, shrinking=True,\n",
       "  tol=0.001, verbose=False)"
      ]
     },
     "execution_count": 75,
     "metadata": {},
     "output_type": "execute_result"
    }
   ],
   "source": [
    "rnd_search_cv.best_estimator_"
   ]
  },
  {
   "cell_type": "code",
   "execution_count": 77,
   "metadata": {},
   "outputs": [
    {
     "data": {
      "text/plain": [
       "2.2679419683229716"
      ]
     },
     "execution_count": 77,
     "metadata": {},
     "output_type": "execute_result"
    }
   ],
   "source": [
    "y_pred = rnd_search_cv.best_estimator_.predict(X)\n",
    "mse = mean_squared_error(y1, y_pred)\n",
    "np.sqrt(mse)"
   ]
  },
  {
   "cell_type": "markdown",
   "metadata": {},
   "source": [
    "RMSE is slightly better than for the linear SVR"
   ]
  }
 ],
 "metadata": {
  "kernelspec": {
   "display_name": "Python 3",
   "language": "python",
   "name": "python3"
  },
  "language_info": {
   "codemirror_mode": {
    "name": "ipython",
    "version": 3
   },
   "file_extension": ".py",
   "mimetype": "text/x-python",
   "name": "python",
   "nbconvert_exporter": "python",
   "pygments_lexer": "ipython3",
   "version": "3.6.3"
  }
 },
 "nbformat": 4,
 "nbformat_minor": 2
}
