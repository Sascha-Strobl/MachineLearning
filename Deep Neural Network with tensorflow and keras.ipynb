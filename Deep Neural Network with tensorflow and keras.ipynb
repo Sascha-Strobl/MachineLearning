{
 "cells": [
  {
   "cell_type": "markdown",
   "metadata": {},
   "source": [
    "# Deep Neural Network with tensorflow and keras - CIFAR 10\n",
    "## Summary:\n",
    "First try: with tensorflow DNN: only 29.5% test accuracy\n",
    "\n",
    "Second try: Trained a DNN with keras to achieve 52% test accuracy."
   ]
  },
  {
   "cell_type": "markdown",
   "metadata": {},
   "source": [
    "## First Try:\n",
    "\n",
    "### Import Libraries"
   ]
  },
  {
   "cell_type": "code",
   "execution_count": 27,
   "metadata": {
    "collapsed": true
   },
   "outputs": [],
   "source": [
    "import numpy as np\n",
    "import os\n",
    "%matplotlib inline\n",
    "import matplotlib\n",
    "import matplotlib.pyplot as plt\n",
    "import tensorflow as tf\n",
    "\n",
    "\n",
    "\n",
    "def reset_graph(seed=42):\n",
    "    tf.reset_default_graph()\n",
    "    tf.set_random_seed(seed)\n",
    "    np.random.seed(seed)\n",
    "    \n",
    "reset_graph()"
   ]
  },
  {
   "cell_type": "code",
   "execution_count": 28,
   "metadata": {
    "collapsed": true
   },
   "outputs": [],
   "source": [
    "he_init = tf.contrib.layers.variance_scaling_initializer()\n",
    "\n",
    "def dnn(inputs, n_hidden_layers=5, n_neurons=100, name=None,\n",
    "        activation=tf.nn.elu, initializer=he_init):\n",
    "    with tf.variable_scope(name, \"dnn\"):\n",
    "        for layer in range(n_hidden_layers):\n",
    "            inputs = tf.layers.dense(inputs, n_neurons, activation=activation,\n",
    "                                     kernel_initializer=initializer,\n",
    "                                     name=\"hidden%d\" % (layer + 1))\n",
    "        return inputs"
   ]
  },
  {
   "cell_type": "code",
   "execution_count": 29,
   "metadata": {
    "collapsed": true
   },
   "outputs": [],
   "source": [
    "n_inputs = 3072 \n",
    "n_outputs = 10\n",
    "\n",
    "X = tf.placeholder(tf.float32, shape=(None, n_inputs), name=\"X\")\n",
    "y = tf.placeholder(tf.int64, shape=(None), name=\"y\")\n",
    "\n",
    "dnn_outputs = dnn(X)\n",
    "\n",
    "logits = tf.layers.dense(dnn_outputs, n_outputs, kernel_initializer=he_init, name=\"logits\")\n",
    "Y_proba = tf.nn.softmax(logits, name=\"Y_proba\")"
   ]
  },
  {
   "cell_type": "code",
   "execution_count": 30,
   "metadata": {
    "collapsed": true
   },
   "outputs": [],
   "source": [
    "learning_rate = 0.01\n",
    "\n",
    "xentropy = tf.nn.sparse_softmax_cross_entropy_with_logits(labels=y, logits=logits)\n",
    "loss = tf.reduce_mean(xentropy, name=\"loss\")\n",
    "\n",
    "optimizer = tf.train.AdamOptimizer(learning_rate)\n",
    "training_op = optimizer.minimize(loss, name=\"training_op\")\n",
    "\n",
    "correct = tf.nn.in_top_k(logits, y, 1)\n",
    "accuracy = tf.reduce_mean(tf.cast(correct, tf.float32), name=\"accuracy\")\n",
    "\n",
    "init = tf.global_variables_initializer()\n",
    "saver = tf.train.Saver()"
   ]
  },
  {
   "cell_type": "markdown",
   "metadata": {},
   "source": [
    "### Import Data"
   ]
  },
  {
   "cell_type": "code",
   "execution_count": 31,
   "metadata": {
    "collapsed": true
   },
   "outputs": [],
   "source": [
    "from keras.datasets import cifar10\n",
    "from sklearn.model_selection import train_test_split\n",
    "\n",
    "(train_features, train_labels), (test_features, test_labels) = cifar10.load_data()\n",
    "X_train, X_vali, y_train, y_vali = train_test_split(train_features, train_labels, test_size=0.2, random_state=42)"
   ]
  },
  {
   "cell_type": "code",
   "execution_count": 32,
   "metadata": {
    "collapsed": true
   },
   "outputs": [],
   "source": [
    "from keras.utils import np_utils\n",
    "train_features = X_train.astype('float32')/255\n",
    "vali_features = X_vali.astype('float32')/255\n",
    "test_features = test_features.astype('float32')/255\n",
    "# convert class labels to binary class labels\n",
    "y_train1 = y_train.reshape(-1,)\n",
    "y_valid1 = y_vali.reshape(-1,)\n",
    "y_test1 = test_labels.reshape(-1,)\n",
    "X_train1=train_features.reshape(40000,3072)\n",
    "X_valid1=vali_features.reshape(10000,3072)\n",
    "X_test1=test_features.reshape(10000,3072)"
   ]
  },
  {
   "cell_type": "code",
   "execution_count": 34,
   "metadata": {},
   "outputs": [
    {
     "name": "stdout",
     "output_type": "stream",
     "text": [
      "0\tValidation loss: 1.970600\tBest loss: 1.970600\tAccuracy: 29.22%\n",
      "1\tValidation loss: 2.005341\tBest loss: 1.970600\tAccuracy: 24.32%\n",
      "2\tValidation loss: 2.431177\tBest loss: 1.970600\tAccuracy: 9.96%\n",
      "3\tValidation loss: 2.364594\tBest loss: 1.970600\tAccuracy: 10.15%\n",
      "4\tValidation loss: 2.346147\tBest loss: 1.970600\tAccuracy: 10.15%\n",
      "5\tValidation loss: 2.364898\tBest loss: 1.970600\tAccuracy: 10.30%\n",
      "6\tValidation loss: 2.409799\tBest loss: 1.970600\tAccuracy: 9.33%\n",
      "7\tValidation loss: 2.378439\tBest loss: 1.970600\tAccuracy: 9.94%\n",
      "8\tValidation loss: 2.344973\tBest loss: 1.970600\tAccuracy: 10.15%\n",
      "9\tValidation loss: 2.348330\tBest loss: 1.970600\tAccuracy: 10.17%\n",
      "10\tValidation loss: 2.442215\tBest loss: 1.970600\tAccuracy: 9.79%\n",
      "11\tValidation loss: 2.416412\tBest loss: 1.970600\tAccuracy: 9.73%\n",
      "12\tValidation loss: 2.351593\tBest loss: 1.970600\tAccuracy: 10.30%\n",
      "13\tValidation loss: 2.457614\tBest loss: 1.970600\tAccuracy: 10.23%\n",
      "14\tValidation loss: 2.437144\tBest loss: 1.970600\tAccuracy: 9.96%\n",
      "15\tValidation loss: 2.446310\tBest loss: 1.970600\tAccuracy: 9.79%\n",
      "16\tValidation loss: 2.415061\tBest loss: 1.970600\tAccuracy: 10.40%\n",
      "17\tValidation loss: 2.455065\tBest loss: 1.970600\tAccuracy: 9.96%\n",
      "18\tValidation loss: 2.526455\tBest loss: 1.970600\tAccuracy: 9.94%\n",
      "19\tValidation loss: 2.422121\tBest loss: 1.970600\tAccuracy: 10.40%\n",
      "20\tValidation loss: 2.381614\tBest loss: 1.970600\tAccuracy: 9.96%\n",
      "Early stopping!\n",
      "Final test accuracy: 29.52%\n"
     ]
    }
   ],
   "source": [
    "n_epochs = 100\n",
    "batch_size = 25\n",
    "\n",
    "max_checks_without_progress = 20\n",
    "checks_without_progress = 0\n",
    "best_loss = np.infty\n",
    "\n",
    "with tf.Session() as sess:\n",
    "    init.run()\n",
    "\n",
    "    for epoch in range(n_epochs):\n",
    "        rnd_idx = np.random.permutation(len(X_train1))\n",
    "        for rnd_indices in np.array_split(rnd_idx, len(X_train1) // batch_size):\n",
    "            X_batch, y_batch = X_train1[rnd_indices], y_train1[rnd_indices]\n",
    "            sess.run(training_op, feed_dict={X: X_batch, y: y_batch})\n",
    "        loss_val, acc_val = sess.run([loss, accuracy], feed_dict={X: X_valid1, y: y_valid1})\n",
    "        if loss_val < best_loss:\n",
    "            save_path = saver.save(sess, \"./CIFAR.ckpt\")\n",
    "            best_loss = loss_val\n",
    "            checks_without_progress = 0\n",
    "        else:\n",
    "            checks_without_progress += 1\n",
    "            if checks_without_progress > max_checks_without_progress:\n",
    "                print(\"Early stopping!\")\n",
    "                break\n",
    "        print(\"{}\\tValidation loss: {:.6f}\\tBest loss: {:.6f}\\tAccuracy: {:.2f}%\".format(\n",
    "            epoch, loss_val, best_loss, acc_val * 100))\n",
    "\n",
    "with tf.Session() as sess:\n",
    "    saver.restore(sess, \"./CIFAR.ckpt\")\n",
    "    acc_test = accuracy.eval(feed_dict={X: X_test1, y: y_test1})\n",
    "    print(\"Final test accuracy: {:.2f}%\".format(acc_test * 100))"
   ]
  },
  {
   "cell_type": "markdown",
   "metadata": {},
   "source": [
    "## Second Try:"
   ]
  },
  {
   "cell_type": "markdown",
   "metadata": {},
   "source": [
    "## Import Libraries and Data"
   ]
  },
  {
   "cell_type": "code",
   "execution_count": 1,
   "metadata": {},
   "outputs": [
    {
     "name": "stderr",
     "output_type": "stream",
     "text": [
      "Using TensorFlow backend.\n"
     ]
    }
   ],
   "source": [
    "from keras import backend as K\n",
    "if K.backend()=='tensorflow':\n",
    "    K.set_image_dim_ordering(\"th\")"
   ]
  },
  {
   "cell_type": "code",
   "execution_count": 2,
   "metadata": {
    "collapsed": true
   },
   "outputs": [],
   "source": [
    "import time\n",
    "import matplotlib.pyplot as plt\n",
    "import numpy as np\n",
    "% matplotlib inline\n",
    "np.random.seed(2017) \n",
    "from keras.models import Sequential\n",
    "from keras.layers.convolutional import Convolution2D, MaxPooling2D\n",
    "from keras.layers import Activation, Flatten, Dense, Dropout\n",
    "from keras.layers.normalization import BatchNormalization\n",
    "from keras.utils import np_utils"
   ]
  },
  {
   "cell_type": "code",
   "execution_count": 3,
   "metadata": {
    "collapsed": true
   },
   "outputs": [],
   "source": [
    "from keras.datasets import cifar10\n",
    "(train_features, train_labels), (test_features, test_labels) = cifar10.load_data()\n",
    "num_train, img_channels, img_rows, img_cols =  train_features.shape\n",
    "num_test, _, _, _ =  test_features.shape\n",
    "num_classes = len(np.unique(train_labels))"
   ]
  },
  {
   "cell_type": "markdown",
   "metadata": {},
   "source": [
    "## Show image example for each class"
   ]
  },
  {
   "cell_type": "code",
   "execution_count": 4,
   "metadata": {},
   "outputs": [
    {
     "data": {
      "image/png": "[encoded data removed]",
      "text/plain": [
       "<Figure size 576x216 with 10 Axes>"
      ]
     },
     "metadata": {},
     "output_type": "display_data"
    }
   ],
   "source": [
    "class_names = ['airplane','automobile','bird','cat','deer',\n",
    "               'dog','frog','horse','ship','truck']\n",
    "fig = plt.figure(figsize=(8,3))\n",
    "for i in range(num_classes):\n",
    "    ax = fig.add_subplot(2, 5, 1 + i, xticks=[], yticks=[])\n",
    "    idx = np.where(train_labels[:]==i)[0]\n",
    "    features_idx = train_features[idx,::]\n",
    "    img_num = np.random.randint(features_idx.shape[0])\n",
    "    im = np.transpose(features_idx[img_num,::], (1, 2, 0))\n",
    "    ax.set_title(class_names[i])\n",
    "    plt.imshow(im)\n",
    "plt.show()"
   ]
  },
  {
   "cell_type": "code",
   "execution_count": 5,
   "metadata": {
    "collapsed": true
   },
   "outputs": [],
   "source": [
    "train_features = train_features.astype('float32')/255\n",
    "test_features = test_features.astype('float32')/255\n",
    "# convert class labels to binary class labels\n",
    "train_labels = np_utils.to_categorical(train_labels, num_classes)\n",
    "test_labels = np_utils.to_categorical(test_labels, num_classes)"
   ]
  },
  {
   "cell_type": "markdown",
   "metadata": {},
   "source": [
    "## Neural Network"
   ]
  },
  {
   "cell_type": "code",
   "execution_count": 6,
   "metadata": {
    "collapsed": true
   },
   "outputs": [],
   "source": [
    "train_features=train_features.reshape(50000,3072)\n",
    "test_features=test_features.reshape(10000,3072)"
   ]
  },
  {
   "cell_type": "markdown",
   "metadata": {},
   "source": [
    "### Network uses Nesterov accelerated gradient descent, ELU and ReLU activation layers"
   ]
  },
  {
   "cell_type": "code",
   "execution_count": 26,
   "metadata": {},
   "outputs": [
    {
     "name": "stdout",
     "output_type": "stream",
     "text": [
      "Epoch 1/25\n",
      "50000/50000 [==============================] - 12s 235us/step - loss: 1.7825 - acc: 0.3549\n",
      "Epoch 2/25\n",
      "50000/50000 [==============================] - 11s 224us/step - loss: 1.5892 - acc: 0.4283\n",
      "Epoch 3/25\n",
      "50000/50000 [==============================] - 11s 225us/step - loss: 1.5042 - acc: 0.4583\n",
      "Epoch 4/25\n",
      "50000/50000 [==============================] - 11s 225us/step - loss: 1.4460 - acc: 0.4784\n",
      "Epoch 5/25\n",
      "50000/50000 [==============================] - 11s 225us/step - loss: 1.4019 - acc: 0.4963\n",
      "Epoch 6/25\n",
      "50000/50000 [==============================] - 11s 227us/step - loss: 1.3633 - acc: 0.5116\n",
      "Epoch 7/25\n",
      "50000/50000 [==============================] - 11s 223us/step - loss: 1.3284 - acc: 0.5245\n",
      "Epoch 8/25\n",
      "50000/50000 [==============================] - 11s 224us/step - loss: 1.2982 - acc: 0.5350\n",
      "Epoch 9/25\n",
      "50000/50000 [==============================] - 11s 224us/step - loss: 1.2687 - acc: 0.5451\n",
      "Epoch 10/25\n",
      "50000/50000 [==============================] - 11s 223us/step - loss: 1.2430 - acc: 0.5548\n",
      "Epoch 11/25\n",
      "50000/50000 [==============================] - 11s 225us/step - loss: 1.2182 - acc: 0.5635\n",
      "Epoch 12/25\n",
      "50000/50000 [==============================] - 11s 225us/step - loss: 1.1914 - acc: 0.5746\n",
      "Epoch 13/25\n",
      "50000/50000 [==============================] - 11s 226us/step - loss: 1.1707 - acc: 0.5818\n",
      "Epoch 14/25\n",
      "50000/50000 [==============================] - ETA: 0s - loss: 1.1486 - acc: 0.586 - 11s 224us/step - loss: 1.1484 - acc: 0.5861\n",
      "Epoch 15/25\n",
      "50000/50000 [==============================] - 11s 226us/step - loss: 1.1258 - acc: 0.5977\n",
      "Epoch 16/25\n",
      "50000/50000 [==============================] - 11s 225us/step - loss: 1.1057 - acc: 0.6019\n",
      "Epoch 17/25\n",
      "50000/50000 [==============================] - 11s 226us/step - loss: 1.0851 - acc: 0.6099\n",
      "Epoch 18/25\n",
      "50000/50000 [==============================] - 11s 227us/step - loss: 1.0603 - acc: 0.6196\n",
      "Epoch 19/25\n",
      "50000/50000 [==============================] - 11s 226us/step - loss: 1.0417 - acc: 0.6249\n",
      "Epoch 20/25\n",
      "50000/50000 [==============================] - 11s 225us/step - loss: 1.0225 - acc: 0.6326\n",
      "Epoch 21/25\n",
      "50000/50000 [==============================] - 11s 227us/step - loss: 1.0059 - acc: 0.6381\n",
      "Epoch 22/25\n",
      "50000/50000 [==============================] - 11s 226us/step - loss: 0.9847 - acc: 0.6455\n",
      "Epoch 23/25\n",
      "50000/50000 [==============================] - 11s 225us/step - loss: 0.9660 - acc: 0.6503\n",
      "Epoch 24/25\n",
      "50000/50000 [==============================] - 11s 223us/step - loss: 0.9489 - acc: 0.6589\n",
      "Epoch 25/25\n",
      "50000/50000 [==============================] - 11s 224us/step - loss: 0.9280 - acc: 0.6648\n",
      "10000/10000 [==============================] - 1s 98us/step\n",
      "Accuracy:  0.524299998768\n"
     ]
    }
   ],
   "source": [
    "from keras.optimizers import SGD\n",
    "\n",
    "model = Sequential()\n",
    "model.add(Dense(units=128,activation=\"elu\",input_shape=(3072,)))\n",
    "model.add(Dense(units=128,activation=\"relu\"))\n",
    "model.add(Dense(units=128,activation=\"elu\"))\n",
    "model.add(Dense(units=128,activation=\"elu\"))\n",
    "model.add(Dense(units=10,activation=\"softmax\"))\n",
    "\n",
    "sgd = SGD(lr=0.005, decay=1e-5, momentum=0.85, nesterov=True)\n",
    "model.compile(loss='categorical_crossentropy',optimizer=sgd,metrics=['accuracy'])\n",
    "model.fit(train_features,train_labels,batch_size=25,epochs=25,verbose=1)\n",
    "accuracy = model.evaluate(x=test_features,y=test_labels,batch_size=25)\n",
    "print(\"Accuracy: \",accuracy[1])"
   ]
  },
  {
   "cell_type": "code",
   "execution_count": null,
   "metadata": {
    "collapsed": true
   },
   "outputs": [],
   "source": []
  }
 ],
 "metadata": {
  "kernelspec": {
   "display_name": "Python 3",
   "language": "python",
   "name": "python3"
  },
  "language_info": {
   "codemirror_mode": {
    "name": "ipython",
    "version": 3
   },
   "file_extension": ".py",
   "mimetype": "text/x-python",
   "name": "python",
   "nbconvert_exporter": "python",
   "pygments_lexer": "ipython3",
   "version": "3.6.3"
  }
 },
 "nbformat": 4,
 "nbformat_minor": 2
}
