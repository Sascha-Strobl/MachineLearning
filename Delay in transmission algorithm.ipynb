{
 "cells": [
  {
   "cell_type": "markdown",
   "metadata": {},
   "source": [
    "# Delay in transmission algorithm\n",
    "## Summary:\n",
    "Creating W matrix by multiplying next image vector with old image vector and input slightly randomly changed image vector (50 randomly changed elements). The next image is then displayed. "
   ]
  },
  {
   "cell_type": "code",
   "execution_count": 15,
   "metadata": {},
   "outputs": [],
   "source": [
    "import numpy as np\n",
    "from scipy import misc as ms\n",
    "%matplotlib inline\n",
    "import matplotlib.pyplot as plt\n",
    "import pandas as pd\n",
    "\n",
    "image1 = ms.imread('pic_0.png', flatten=True).astype('float64')\n",
    "image2 = ms.imread('pic_1.png', flatten=True).astype('float64')\n",
    "image3 = ms.imread('pic_2.png', flatten=True).astype('float64')\n",
    "image4 = ms.imread('pic_3.png', flatten=True).astype('float64')"
   ]
  },
  {
   "cell_type": "code",
   "execution_count": 2,
   "metadata": {},
   "outputs": [
    {
     "data": {
      "text/plain": [
       "array([   0.,  255.])"
      ]
     },
     "execution_count": 2,
     "metadata": {},
     "output_type": "execute_result"
    }
   ],
   "source": [
    "np.unique(pd.DataFrame(image1).values.ravel())"
   ]
  },
  {
   "cell_type": "code",
   "execution_count": 3,
   "metadata": {
    "collapsed": true
   },
   "outputs": [],
   "source": [
    "dfi1=pd.DataFrame(image1)\n",
    "df1=dfi1.replace([255,0], [1,-1])\n",
    "dfx1=df1.values.flatten()\n",
    "\n",
    "dfi2=pd.DataFrame(image2)\n",
    "df2=dfi2.replace([255,0], [1,-1])\n",
    "dfx2=df2.values.flatten()\n",
    "\n",
    "dfi3=pd.DataFrame(image3)\n",
    "df3=dfi3.replace([255,0], [1,-1])\n",
    "dfx3=df3.values.flatten()\n",
    "\n",
    "dfi4=pd.DataFrame(image4)\n",
    "df4=dfi4.replace([255,0], [1,-1])\n",
    "dfx4=df4.values.flatten()"
   ]
  },
  {
   "cell_type": "code",
   "execution_count": 4,
   "metadata": {},
   "outputs": [
    {
     "data": {
      "text/plain": [
       "<matplotlib.image.AxesImage at 0x1215e3470>"
      ]
     },
     "execution_count": 4,
     "metadata": {},
     "output_type": "execute_result"
    },
    {
     "data": {
      "image/png": "[encoded data removed]",
      "text/plain": [
       "<Figure size 432x288 with 1 Axes>"
      ]
     },
     "metadata": {},
     "output_type": "display_data"
    }
   ],
   "source": [
    "plt.imshow(df1, cmap='gray')"
   ]
  },
  {
   "cell_type": "code",
   "execution_count": 5,
   "metadata": {},
   "outputs": [
    {
     "data": {
      "text/plain": [
       "<matplotlib.image.AxesImage at 0x1217404e0>"
      ]
     },
     "execution_count": 5,
     "metadata": {},
     "output_type": "execute_result"
    },
    {
     "data": {
      "image/png": "[encoded data removed]",
      "text/plain": [
       "<Figure size 432x288 with 1 Axes>"
      ]
     },
     "metadata": {},
     "output_type": "display_data"
    }
   ],
   "source": [
    "plt.imshow(df2, cmap='gray')"
   ]
  },
  {
   "cell_type": "code",
   "execution_count": 6,
   "metadata": {},
   "outputs": [
    {
     "data": {
      "text/plain": [
       "<matplotlib.image.AxesImage at 0x1216fa278>"
      ]
     },
     "execution_count": 6,
     "metadata": {},
     "output_type": "execute_result"
    },
    {
     "data": {
      "image/png": "[encoded data removed]",
      "text/plain": [
       "<Figure size 432x288 with 1 Axes>"
      ]
     },
     "metadata": {},
     "output_type": "display_data"
    }
   ],
   "source": [
    "plt.imshow(df3, cmap='gray')"
   ]
  },
  {
   "cell_type": "code",
   "execution_count": 7,
   "metadata": {},
   "outputs": [
    {
     "data": {
      "text/plain": [
       "<matplotlib.image.AxesImage at 0x12389bcf8>"
      ]
     },
     "execution_count": 7,
     "metadata": {},
     "output_type": "execute_result"
    },
    {
     "data": {
      "image/png": "[encoded data removed]",
      "text/plain": [
       "<Figure size 432x288 with 1 Axes>"
      ]
     },
     "metadata": {},
     "output_type": "display_data"
    }
   ],
   "source": [
    "plt.imshow(df4, cmap='gray')"
   ]
  },
  {
   "cell_type": "markdown",
   "metadata": {},
   "source": [
    "## Create Pattern storage matrix W"
   ]
  },
  {
   "cell_type": "code",
   "execution_count": 8,
   "metadata": {
    "collapsed": true
   },
   "outputs": [],
   "source": [
    "W_matrix=np.outer(np.transpose(dfx2),dfx1)+np.outer(np.transpose(dfx3),dfx2)+np.outer(np.transpose(dfx4),dfx3)\n",
    "W=pd.DataFrame(W_matrix)"
   ]
  },
  {
   "cell_type": "markdown",
   "metadata": {},
   "source": [
    "## Input Pattern to be tested: First try Image 1"
   ]
  },
  {
   "cell_type": "code",
   "execution_count": 9,
   "metadata": {
    "collapsed": true
   },
   "outputs": [],
   "source": [
    "# Slightly perturbing the input vector\n",
    "a=np.random.randint(2500, size=50)\n",
    "dfx1[a]=dfx1[a]*-1\n",
    "\n",
    "input_vector=dfx1 # input here\n",
    "S=W.dot(input_vector)\n",
    "Sdf=pd.DataFrame(S)\n",
    "num = Sdf._get_numeric_data()\n",
    "num[num < 0] = -1\n",
    "num[num >= 0] = 1\n",
    "Snp=np.array(Sdf)\n",
    "Snew=np.reshape(Snp, (50, 50))"
   ]
  },
  {
   "cell_type": "markdown",
   "metadata": {},
   "source": [
    "## Look at the resulting picture"
   ]
  },
  {
   "cell_type": "code",
   "execution_count": 10,
   "metadata": {},
   "outputs": [
    {
     "data": {
      "text/plain": [
       "<matplotlib.image.AxesImage at 0x1239d3780>"
      ]
     },
     "execution_count": 10,
     "metadata": {},
     "output_type": "execute_result"
    },
    {
     "data": {
      "image/png": "[encoded data removed]",
      "text/plain": [
       "<Figure size 432x288 with 1 Axes>"
      ]
     },
     "metadata": {},
     "output_type": "display_data"
    }
   ],
   "source": [
    "plt.imshow(Snew, cmap=plt.cm.gist_gray)"
   ]
  },
  {
   "cell_type": "markdown",
   "metadata": {},
   "source": [
    "## Input Pattern to be tested: First try Image 2"
   ]
  },
  {
   "cell_type": "code",
   "execution_count": 11,
   "metadata": {
    "collapsed": true
   },
   "outputs": [],
   "source": [
    "# Slightly perturbing the input vector\n",
    "a=np.random.randint(2500, size=50)\n",
    "dfx2[a]=dfx2[a]*-1\n",
    "\n",
    "input_vector=dfx2 # input here\n",
    "S=W.dot(input_vector)\n",
    "Sdf=pd.DataFrame(S)\n",
    "num = Sdf._get_numeric_data()\n",
    "num[num < 0] = -1\n",
    "num[num >= 0] = 1\n",
    "Snp=np.array(Sdf)\n",
    "Snew=np.reshape(Snp, (50, 50))"
   ]
  },
  {
   "cell_type": "code",
   "execution_count": 12,
   "metadata": {},
   "outputs": [
    {
     "data": {
      "text/plain": [
       "<matplotlib.image.AxesImage at 0x123a3deb8>"
      ]
     },
     "execution_count": 12,
     "metadata": {},
     "output_type": "execute_result"
    },
    {
     "data": {
      "image/png": "[encoded data removed]",
      "text/plain": [
       "<Figure size 432x288 with 1 Axes>"
      ]
     },
     "metadata": {},
     "output_type": "display_data"
    }
   ],
   "source": [
    "plt.imshow(Snew, cmap=plt.cm.gist_gray)"
   ]
  },
  {
   "cell_type": "markdown",
   "metadata": {},
   "source": [
    "## Input Pattern to be tested: First try Image 3"
   ]
  },
  {
   "cell_type": "code",
   "execution_count": 13,
   "metadata": {
    "collapsed": true
   },
   "outputs": [],
   "source": [
    "# Slightly perturbing the input vector\n",
    "a=np.random.randint(2500, size=50)\n",
    "dfx3[a]=dfx3[a]*-1\n",
    "\n",
    "input_vector=dfx3 # input here\n",
    "S=W.dot(input_vector)\n",
    "Sdf=pd.DataFrame(S)\n",
    "num = Sdf._get_numeric_data()\n",
    "num[num < 0] = -1\n",
    "num[num >= 0] = 1\n",
    "Snp=np.array(Sdf)\n",
    "Snew=np.reshape(Snp, (50, 50))"
   ]
  },
  {
   "cell_type": "code",
   "execution_count": 14,
   "metadata": {},
   "outputs": [
    {
     "data": {
      "text/plain": [
       "<matplotlib.image.AxesImage at 0x129ae54e0>"
      ]
     },
     "execution_count": 14,
     "metadata": {},
     "output_type": "execute_result"
    },
    {
     "data": {
      "image/png": "[encoded data removed]",
      "text/plain": [
       "<Figure size 432x288 with 1 Axes>"
      ]
     },
     "metadata": {},
     "output_type": "display_data"
    }
   ],
   "source": [
    "plt.imshow(Snew, cmap=plt.cm.gist_gray)"
   ]
  }
 ],
 "metadata": {
  "kernelspec": {
   "display_name": "Python 3",
   "language": "python",
   "name": "python3"
  },
  "language_info": {
   "codemirror_mode": {
    "name": "ipython",
    "version": 3
   },
   "file_extension": ".py",
   "mimetype": "text/x-python",
   "name": "python",
   "nbconvert_exporter": "python",
   "pygments_lexer": "ipython3",
   "version": "3.6.3"
  }
 },
 "nbformat": 4,
 "nbformat_minor": 2
}
